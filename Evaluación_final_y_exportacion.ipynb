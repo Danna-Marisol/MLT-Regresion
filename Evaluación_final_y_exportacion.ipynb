{
  "cells": [
    {
      "cell_type": "code",
      "execution_count": null,
      "metadata": {
        "colab": {
          "base_uri": "https://localhost:8080/",
          "height": 384
        },
        "id": "GjeR_C4k9Luu",
        "outputId": "00885909-0cde-49ac-ec9d-ad66e3647a62"
      },
      "outputs": [
        {
          "ename": "ModuleNotFoundError",
          "evalue": "No module named 'mlflow'",
          "output_type": "error",
          "traceback": [
            "\u001b[0;31m---------------------------------------------------------------------------\u001b[0m",
            "\u001b[0;31mModuleNotFoundError\u001b[0m                       Traceback (most recent call last)",
            "\u001b[0;32m<ipython-input-1-33d479a4c0fa>\u001b[0m in \u001b[0;36m<cell line: 0>\u001b[0;34m()\u001b[0m\n\u001b[1;32m      1\u001b[0m \u001b[0;32mimport\u001b[0m \u001b[0mos\u001b[0m\u001b[0;34m\u001b[0m\u001b[0;34m\u001b[0m\u001b[0m\n\u001b[0;32m----> 2\u001b[0;31m \u001b[0;32mimport\u001b[0m \u001b[0mmlflow\u001b[0m\u001b[0;34m\u001b[0m\u001b[0;34m\u001b[0m\u001b[0m\n\u001b[0m\u001b[1;32m      3\u001b[0m \u001b[0;32mimport\u001b[0m \u001b[0mpandas\u001b[0m \u001b[0;32mas\u001b[0m \u001b[0mpd\u001b[0m\u001b[0;34m\u001b[0m\u001b[0;34m\u001b[0m\u001b[0m\n\u001b[1;32m      4\u001b[0m \u001b[0;32mfrom\u001b[0m \u001b[0msklearn\u001b[0m\u001b[0;34m.\u001b[0m\u001b[0mensemble\u001b[0m \u001b[0;32mimport\u001b[0m \u001b[0mExtraTreesRegressor\u001b[0m\u001b[0;34m\u001b[0m\u001b[0;34m\u001b[0m\u001b[0m\n\u001b[1;32m      5\u001b[0m \u001b[0;32mfrom\u001b[0m \u001b[0msklearn\u001b[0m\u001b[0;34m.\u001b[0m\u001b[0mmodel_selection\u001b[0m \u001b[0;32mimport\u001b[0m \u001b[0mtrain_test_split\u001b[0m\u001b[0;34m\u001b[0m\u001b[0;34m\u001b[0m\u001b[0m\n",
            "\u001b[0;31mModuleNotFoundError\u001b[0m: No module named 'mlflow'",
            "",
            "\u001b[0;31m---------------------------------------------------------------------------\u001b[0;32m\nNOTE: If your import is failing due to a missing package, you can\nmanually install dependencies using either !pip or !apt.\n\nTo view examples of installing some common dependencies, click the\n\"Open Examples\" button below.\n\u001b[0;31m---------------------------------------------------------------------------\u001b[0m\n"
          ]
        }
      ],
      "source": [
        "import os\n",
        "import mlflow\n",
        "import pandas as pd\n",
        "from sklearn.ensemble import ExtraTreesRegressor\n",
        "from sklearn.model_selection import train_test_split\n",
        "from sklearn.metrics import mean_squared_error, mean_absolute_error, r2_score\n",
        "import joblib\n",
        "import matplotlib.pyplot as plt\n",
        "\n",
        "\n",
        "# 1. Configuración de MLflow\n",
        "mlflow_dir = os.path.join(os.getcwd(), \"mlruns\")\n",
        "os.makedirs(mlflow_dir, exist_ok=True)\n",
        "mlflow.set_tracking_uri(f\"file:{mlflow_dir}\")\n",
        "\n",
        "# Configurar experimento\n",
        "experiment_name = \"MSRP_PREDICTION\"\n",
        "if not mlflow.get_experiment_by_name(experiment_name):\n",
        "    mlflow.create_experiment(experiment_name, artifact_location=mlflow_dir)\n",
        "mlflow.set_experiment(experiment_name)\n",
        "\n",
        "\n",
        "\n",
        "\n"
      ]
    },
    {
      "cell_type": "code",
      "execution_count": 3,
      "metadata": {
        "colab": {
          "base_uri": "https://localhost:8080/",
          "height": 106
        },
        "id": "h0hqGAIN-Z3h",
        "outputId": "f718404b-51e7-4e80-b4f6-658cd4fa9830"
      },
      "outputs": [
        {
          "ename": "IndentationError",
          "evalue": "unexpected indent (<ipython-input-3-e94f9ba004d9>, line 14)",
          "output_type": "error",
          "traceback": [
            "\u001b[0;36m  File \u001b[0;32m\"<ipython-input-3-e94f9ba004d9>\"\u001b[0;36m, line \u001b[0;32m14\u001b[0m\n\u001b[0;31m    X = msrp_new[features].copy()\u001b[0m\n\u001b[0m    ^\u001b[0m\n\u001b[0;31mIndentationError\u001b[0m\u001b[0;31m:\u001b[0m unexpected indent\n"
          ]
        }
      ],
      "source": [
        "# 2. Cargar datos\n",
        "try:\n",
        "    data_path = os.path.join('data', 'msrp_clean.csv')\n",
        "    msrp_new = pd.read_csv(data_path)\n",
        "    print(\" Datos cargados correctamente\")\n",
        "except FileNotFoundError:\n",
        "    raise Exception(\" Error: No se encontró el archivo de datos\")\n",
        "\n",
        "    # 3. Preprocesamiento\n",
        "features = ['Make', 'Year', 'Engine Fuel Type', 'Engine HP', 'Engine Cylinders',\n",
        "               'Vehicle Style', 'highway MPG', 'city mpg', 'Popularity']\n",
        "target = 'MSRP'\n",
        "\n",
        "X = msrp_new[features].copy()\n",
        "y = msrp_new[target]\n",
        "\n",
        "    # Codificar variables categóricas\n",
        "X = pd.get_dummies(X, drop_first=True)\n",
        "\n",
        "    # División del dataset\n",
        "X_train, X_test, y_train, y_test = train_test_split(X, y, test_size=0.2, random_state=42)\n"
      ]
    },
    {
      "cell_type": "code",
      "execution_count": null,
      "metadata": {
        "id": "PuiYAgvf-Jjq"
      },
      "outputs": [],
      "source": [
        "# 4. Entrenamiento y tracking\n",
        "with mlflow.start_run(run_name=\"ExtraTrees_v1\"):\n",
        "       # Modelo\n",
        "    model = ExtraTreesRegressor(random_state=42)\n",
        "    model.fit(X_train, y_train)\n",
        "    y_pred = model.predict(X_test)\n",
        "\n",
        "        # Métricas\n",
        "    metrics = {\n",
        "        \"mae\": mean_absolute_error(y_test, y_pred),\n",
        "        \"mse\": mean_squared_error(y_test, y_pred),\n",
        "        \"r2_score\": r2_score(y_test, y_pred)\n",
        "        }\n",
        "\n",
        "        # Log de parámetros y métricas\n",
        "    mlflow.log_params({\n",
        "        \"random_state\": 42,\n",
        "        \"model_type\": \"ExtraTreesRegressor\",\n",
        "           \"features\": str(features)\n",
        "        })\n",
        "    mlflow.log_metrics(metrics)\n",
        "\n",
        "        # Guardar artefactos\n",
        "    artifacts = {\n",
        "        \"modelo_MSRP.pkl\": model,\n",
        "        \"msrp_logged.csv\": msrp_new,\n",
        "        \"predicciones_msrp.csv\": pd.DataFrame({\"y_test\": y_test, \"y_pred\": y_pred})\n",
        "        }\n",
        "\n",
        "for filename, data in artifacts.items():\n",
        "    if filename.endswith('.pkl'):\n",
        "       joblib.dump(data, filename)\n",
        "    else:\n",
        "        data.to_csv(filename, index=False)\n",
        "        mlflow.log_artifact(filename)\n",
        "\n",
        "\n",
        "        # Gráfico de predicción vs real\n",
        "plt.figure(figsize=(8, 6))\n",
        "plt.scatter(y_test, y_pred, alpha=0.3)\n",
        "plt.xlabel(\"Valor real\")\n",
        "plt.ylabel(\"Predicción\")\n",
        "plt.title(\"Predicción vs Real (MSRP)\")\n",
        "plt.grid(True)\n",
        "plt.savefig(\"pred_vs_real.png\")\n",
        "mlflow.log_artifact(\"pred_vs_real.png\")\n",
        "plt.close()"
      ]
    },
    {
      "cell_type": "code",
      "execution_count": null,
      "metadata": {
        "id": "VwMvBCK3-IWe"
      },
      "outputs": [],
      "source": [
        " # Registrar modelo\n",
        "mlflow.sklearn.log_model(model, \"modelo_MSRP\", input_example=X.iloc[:2])\n",
        "\n",
        "print(\" Entrenamiento completado\")\n",
        "print(f\" Métricas: {metrics}\")\n",
        "\n",
        "model = joblib.load(\"extra_trees_model.joblib\")\n",
        "\n",
        "#para usar el modelo en otro script: predictions = model.predict(new_data)"
      ]
    }
  ],
  "metadata": {
    "colab": {
      "provenance": []
    },
    "kernelspec": {
      "display_name": "Python 3",
      "name": "python3"
    },
    "language_info": {
      "name": "python"
    }
  },
  "nbformat": 4,
  "nbformat_minor": 0
}
