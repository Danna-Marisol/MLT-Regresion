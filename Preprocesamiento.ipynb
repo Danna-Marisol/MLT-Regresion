{
  "nbformat": 4,
  "nbformat_minor": 0,
  "metadata": {
    "colab": {
      "provenance": []
    },
    "kernelspec": {
      "name": "python3",
      "display_name": "Python 3"
    },
    "language_info": {
      "name": "python"
    }
  },
  "cells": [
    {
      "cell_type": "code",
      "execution_count": null,
      "metadata": {
        "id": "_Wq9DnguEE_7"
      },
      "outputs": [],
      "source": [
        "import pandas as pd\n",
        "import numpy as np\n",
        "\n",
        "#leer el data\n",
        "import os\n",
        "\n",
        "try:\n",
        "    msrp_new = pd.read_csv('data/msrp_clean.csv')\n",
        "    print(\"Datos cargados correctamente\")\n",
        "except FileNotFoundError:\n",
        "    raise Exception(\"Error: Ejecuta primero el notebook de Análisis Exploratorio\")\n",
        "\n",
        "#fuga de datos, caracterísitas de información mutua:\n",
        "\n",
        "msrp_new.columns\n"
      ]
    },
    {
      "cell_type": "code",
      "source": [
        "#'''nuestro target será msrp evaluamos que features tienen mayor ganancia de información mutua'''"
      ],
      "metadata": {
        "id": "bEysRZ2dEhnY"
      },
      "execution_count": null,
      "outputs": []
    },
    {
      "cell_type": "code",
      "source": [
        "# Selección de características por información mutua para regresión\n",
        "from sklearn.feature_selection import mutual_info_regression\n",
        "from sklearn.preprocessing import LabelEncoder\n",
        "\n",
        "\n",
        "# Lista de columnas seleccionadas\n",
        "features = ['Make', 'Model', 'Year', 'Engine Fuel Type', 'Engine HP', 'Engine Cylinders', 'Transmission Type', 'Driven_Wheels', 'Number of Doors', 'Market Category', 'Vehicle Size', 'Vehicle Style', 'highway MPG', 'city mpg', 'Popularity']\n",
        "target = 'MSRP'"
      ],
      "metadata": {
        "id": "7gu1H8xuEojs"
      },
      "execution_count": null,
      "outputs": []
    },
    {
      "cell_type": "code",
      "source": [
        "# Copiar subset relevante\n",
        "X = msrp_new[features].copy()\n",
        "y = msrp_new[target]\n",
        "\n",
        "# Codificar variables categóricas\n",
        "for col in X.select_dtypes(include='object').columns:\n",
        "    X[col] = LabelEncoder().fit_transform(X[col].astype(str))\n",
        "\n",
        "# Calcular información mutua (para regresión)\n",
        "mi_scores = mutual_info_regression(X, y, random_state=42)\n",
        "\n",
        "# Crear un DataFrame con los resultados\n",
        "mi_df = pd.DataFrame({'columna': features, 'información mutua': mi_scores})\n",
        "mi_df = mi_df.sort_values(by='información mutua', ascending=False)\n",
        "\n",
        "# Mostrar las mejores características\n",
        "print(\"Ranking de características según información mutua (regresión):\")\n",
        "print(mi_df)\n"
      ],
      "metadata": {
        "id": "DMiFDyAVExDK"
      },
      "execution_count": null,
      "outputs": []
    },
    {
      "cell_type": "code",
      "source": [
        "'''Hacemos un descarte de columnas para evitar el sobre ajuste:\n",
        "descartamos Model y Market Category por que tiene alta cardinalidad\n",
        "también descaramos todas las columnas que aporten menos del 0.3: Driven_Wheels, Vehicle Size, Transmission Type, Number of Doors.\n",
        "\n",
        "'''\n",
        "features = ['Make', 'Year', 'Engine Fuel Type', 'Engine HP', 'Engine Cylinders', 'Vehicle Style', 'highway MPG', 'city mpg', 'Popularity']\n",
        "print('Las features de entrenamiento serán las siguientes:', features)"
      ],
      "metadata": {
        "id": "JJDWXKs2E6Y4"
      },
      "execution_count": null,
      "outputs": []
    }
  ]
}