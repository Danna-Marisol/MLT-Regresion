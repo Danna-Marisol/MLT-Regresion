{
  "cells": [
    {
      "cell_type": "code",
      "execution_count": null,
      "metadata": {
        "id": "jqZffx2eqD8W"
      },
      "outputs": [],
      "source": [
        "import pandas as pd\n",
        "import numpy as np\n",
        "import os\n",
        "!pip install --gdown --quiet\n",
        "import gdown\n",
        "import zipfile\n",
        "from sklearn.preprocessing import MinMaxScaler\n",
        "import matplotlib.pyplot as plt\n",
        "\n",
        "# 1. Descarga y extracción de datos\n",
        "file_id = '1CcnzFSViob2EJ9beSazDBCw29WgIm1_u'\n",
        "output = 'data.zip'\n",
        "folder = 'data'\n",
        "nombre_archivo = 'data.csv'\n",
        "\n",
        "try:\n",
        "    print(\"Descargando archivo zip desde Google Drive...\")\n",
        "    gdown.download(f\"https://drive.google.com/uc?id={file_id}\", output, quiet=False)\n",
        "\n",
        "    print(f\"Extrayendo archivos a {folder}...\")\n",
        "    os.makedirs(folder, exist_ok=True)\n",
        "    with zipfile.ZipFile(output, 'r') as zip_ref:\n",
        "        zip_ref.extractall(folder)\n",
        "\n",
        "    csv_path= os.path.join(folder, nombre_archivo)\n",
        "    print(f\"Cargando dataset desde {csv_path}...\")\n",
        "    msrp_df = pd.read_csv(csv_path)\n",
        "\n",
        "except Exception as e:\n",
        "    print(f\"Error: {str(e)}\")\n",
        "    raise\n",
        "\n"
      ]
    },
    {
      "cell_type": "code",
      "execution_count": 23,
      "metadata": {
        "id": "lrfSh7YcqyX3"
      },
      "outputs": [],
      "source": [
        "# 2. Análisis de datos\n",
        "def analyze_data(msrp_df):\n",
        "    # Análisis básico\n",
        "    print(\"\\n=== Información del DataFrame ===\")\n",
        "    msrp_df.info()\n",
        "\n",
        "    print(\"\\n=== Estadísticas descriptivas ===\")\n",
        "    print(msrp_df.describe())\n",
        "\n",
        "    print(\"\\n=== Valores faltantes ===\")\n",
        "    missing_values = msrp_df.isnull().sum()\n",
        "    print(missing_values)\n",
        "\n",
        "    total_cells = np.prod(msrp_df.shape)\n",
        "    total_missing = missing_values.sum()\n",
        "    print(f\"\\nPorcentaje de valores faltantes: {(total_missing/total_cells)*100:.2f}%\")\n",
        "\n",
        "    return msrp_df"
      ]
    },
    {
      "cell_type": "code",
      "execution_count": null,
      "metadata": {
        "id": "g6wkznPAwrXM"
      },
      "outputs": [],
      "source": [
        "# 3. Limpieza de datos\n",
        "def clean_data(msrp_df):\n",
        "    # Imputación de valores nulos\n",
        "    msrp_df['Engine HP'] = msrp_df['Engine HP'].fillna(msrp_df['Engine HP'].median())\n",
        "    msrp_df['Engine Cylinders'] = msrp_df['Engine Cylinders'].fillna(msrp_df['Engine Cylinders'].mode()[0])\n",
        "    msrp_df['Number of Doors'] = msrp_df['Number of Doors'].fillna(msrp_df['Number of Doors'].mode()[0])\n",
        "    msrp_df['Market Category'] = msrp_df['Market Category'].fillna('Unknown')\n",
        "\n",
        "    msrp_df['Engine Fuel Type'] = msrp_df.groupby('Make')['Engine Fuel Type'].transform(\n",
        "        lambda x: x.fillna(x.mode()[0]) if not x.mode().empty else x\n",
        "    )\n",
        "\n",
        "    return msrp_df"
      ]
    },
    {
      "cell_type": "code",
      "execution_count": 25,
      "metadata": {
        "id": "thCP5o7pqnmU"
      },
      "outputs": [],
      "source": [
        "# 4. Visualización (guardará imágenes en lugar de mostrarlas)\n",
        "def generate_visualizations(msrp_df):\n",
        "    os.makedirs(\"output\", exist_ok=True)\n",
        "\n",
        "    # Valores únicos para columnas categóricas\n",
        "    object_columns = msrp_df.select_dtypes(include=['object']).columns\n",
        "    with open(\"output/unique_values.txt\", \"w\") as f:\n",
        "        for col in object_columns:\n",
        "            unique_values = msrp_df[col].unique()\n",
        "            unique_values.sort()\n",
        "            f.write(f\"Columna: {col}\\n\")\n",
        "            f.write(f\"{unique_values}\\n\")\n",
        "            f.write(\"-\"*30 + \"\\n\")"
      ]
    },
    {
      "cell_type": "code",
      "execution_count": 27,
      "metadata": {
        "id": "WkKROGBAqWoY"
      },
      "outputs": [],
      "source": [
        "# This code has been moved to the main execution block in cell lF0gFKq9qS1G"
      ]
    },
    {
      "cell_type": "code",
      "execution_count": null,
      "metadata": {
        "colab": {
          "base_uri": "https://localhost:8080/"
        },
        "id": "lF0gFKq9qS1G",
        "outputId": "fd632c62-9a76-483d-c71a-7968a0a84c7d"
      },
      "outputs": [
        {
          "name": "stdout",
          "output_type": "stream",
          "text": [
            "Descargando archivo zip desde Google Drive...\n"
          ]
        },
        {
          "name": "stderr",
          "output_type": "stream",
          "text": [
            "Downloading...\n",
            "From: https://drive.google.com/uc?id=1CcnzFSViob2EJ9beSazDBCw29WgIm1_u\n",
            "To: /content/data.zip\n",
            "100%|██████████| 115k/115k [00:00<00:00, 3.81MB/s]\n",
            "<ipython-input-24-c5711eb08702>:4: FutureWarning: A value is trying to be set on a copy of a DataFrame or Series through chained assignment using an inplace method.\n",
            "The behavior will change in pandas 3.0. This inplace method will never work because the intermediate object on which we are setting values always behaves as a copy.\n",
            "\n",
            "For example, when doing 'df[col].method(value, inplace=True)', try using 'df.method({col: value}, inplace=True)' or df[col] = df[col].method(value) instead, to perform the operation inplace on the original object.\n",
            "\n",
            "\n",
            "  msrp_df['Engine HP'].fillna(msrp_df['Engine HP'].median(), inplace=True)\n",
            "<ipython-input-24-c5711eb08702>:5: FutureWarning: A value is trying to be set on a copy of a DataFrame or Series through chained assignment using an inplace method.\n",
            "The behavior will change in pandas 3.0. This inplace method will never work because the intermediate object on which we are setting values always behaves as a copy.\n",
            "\n",
            "For example, when doing 'df[col].method(value, inplace=True)', try using 'df.method({col: value}, inplace=True)' or df[col] = df[col].method(value) instead, to perform the operation inplace on the original object.\n",
            "\n",
            "\n",
            "  msrp_df['Engine Cylinders'].fillna(msrp_df['Engine Cylinders'].mode()[0], inplace=True)\n",
            "<ipython-input-24-c5711eb08702>:6: FutureWarning: A value is trying to be set on a copy of a DataFrame or Series through chained assignment using an inplace method.\n",
            "The behavior will change in pandas 3.0. This inplace method will never work because the intermediate object on which we are setting values always behaves as a copy.\n",
            "\n",
            "For example, when doing 'df[col].method(value, inplace=True)', try using 'df.method({col: value}, inplace=True)' or df[col] = df[col].method(value) instead, to perform the operation inplace on the original object.\n",
            "\n",
            "\n",
            "  msrp_df['Number of Doors'].fillna(msrp_df['Number of Doors'].mode()[0], inplace=True)\n",
            "<ipython-input-24-c5711eb08702>:7: FutureWarning: A value is trying to be set on a copy of a DataFrame or Series through chained assignment using an inplace method.\n",
            "The behavior will change in pandas 3.0. This inplace method will never work because the intermediate object on which we are setting values always behaves as a copy.\n",
            "\n",
            "For example, when doing 'df[col].method(value, inplace=True)', try using 'df.method({col: value}, inplace=True)' or df[col] = df[col].method(value) instead, to perform the operation inplace on the original object.\n",
            "\n",
            "\n",
            "  msrp_df['Market Category'].fillna('Unknown', inplace=True)\n"
          ]
        },
        {
          "name": "stdout",
          "output_type": "stream",
          "text": [
            "Extrayendo archivos a data...\n",
            "Dataset loaded from data/data.csv...\n",
            "\n",
            "=== Primeras filas del dataset ===\n",
            "  Make       Model  Year             Engine Fuel Type  Engine HP  \\\n",
            "0  BMW  1 Series M  2011  premium unleaded (required)      335.0   \n",
            "1  BMW    1 Series  2011  premium unleaded (required)      300.0   \n",
            "2  BMW    1 Series  2011  premium unleaded (required)      300.0   \n",
            "3  BMW    1 Series  2011  premium unleaded (required)      230.0   \n",
            "4  BMW    1 Series  2011  premium unleaded (required)      230.0   \n",
            "\n",
            "   Engine Cylinders Transmission Type     Driven_Wheels  Number of Doors  \\\n",
            "0               6.0            MANUAL  rear wheel drive              2.0   \n",
            "1               6.0            MANUAL  rear wheel drive              2.0   \n",
            "2               6.0            MANUAL  rear wheel drive              2.0   \n",
            "3               6.0            MANUAL  rear wheel drive              2.0   \n",
            "4               6.0            MANUAL  rear wheel drive              2.0   \n",
            "\n",
            "                         Market Category Vehicle Size Vehicle Style  \\\n",
            "0  Factory Tuner,Luxury,High-Performance      Compact         Coupe   \n",
            "1                     Luxury,Performance      Compact   Convertible   \n",
            "2                Luxury,High-Performance      Compact         Coupe   \n",
            "3                     Luxury,Performance      Compact         Coupe   \n",
            "4                                 Luxury      Compact   Convertible   \n",
            "\n",
            "   highway MPG  city mpg  Popularity   MSRP  \n",
            "0           26        19        3916  46135  \n",
            "1           28        19        3916  40650  \n",
            "2           28        20        3916  36350  \n",
            "3           28        18        3916  29450  \n",
            "4           28        18        3916  34500  \n",
            "\n",
            "=== Información del DataFrame ===\n",
            "<class 'pandas.core.frame.DataFrame'>\n",
            "RangeIndex: 11914 entries, 0 to 11913\n",
            "Data columns (total 16 columns):\n",
            " #   Column             Non-Null Count  Dtype  \n",
            "---  ------             --------------  -----  \n",
            " 0   Make               11914 non-null  object \n",
            " 1   Model              11914 non-null  object \n",
            " 2   Year               11914 non-null  int64  \n",
            " 3   Engine Fuel Type   11911 non-null  object \n",
            " 4   Engine HP          11845 non-null  float64\n",
            " 5   Engine Cylinders   11884 non-null  float64\n",
            " 6   Transmission Type  11914 non-null  object \n",
            " 7   Driven_Wheels      11914 non-null  object \n",
            " 8   Number of Doors    11908 non-null  float64\n",
            " 9   Market Category    8172 non-null   object \n",
            " 10  Vehicle Size       11914 non-null  object \n",
            " 11  Vehicle Style      11914 non-null  object \n",
            " 12  highway MPG        11914 non-null  int64  \n",
            " 13  city mpg           11914 non-null  int64  \n",
            " 14  Popularity         11914 non-null  int64  \n",
            " 15  MSRP               11914 non-null  int64  \n",
            "dtypes: float64(3), int64(5), object(8)\n",
            "memory usage: 1.5+ MB\n",
            "\n",
            "=== Estadísticas descriptivas ===\n",
            "               Year    Engine HP  Engine Cylinders  Number of Doors  \\\n",
            "count  11914.000000  11845.00000      11884.000000     11908.000000   \n",
            "mean    2010.384338    249.38607          5.628829         3.436093   \n",
            "std        7.579740    109.19187          1.780559         0.881315   \n",
            "min     1990.000000     55.00000          0.000000         2.000000   \n",
            "25%     2007.000000    170.00000          4.000000         2.000000   \n",
            "50%     2015.000000    227.00000          6.000000         4.000000   \n",
            "75%     2016.000000    300.00000          6.000000         4.000000   \n",
            "max     2017.000000   1001.00000         16.000000         4.000000   \n",
            "\n",
            "        highway MPG      city mpg    Popularity          MSRP  \n",
            "count  11914.000000  11914.000000  11914.000000  1.191400e+04  \n",
            "mean      26.637485     19.733255   1554.911197  4.059474e+04  \n",
            "std        8.863001      8.987798   1441.855347  6.010910e+04  \n",
            "min       12.000000      7.000000      2.000000  2.000000e+03  \n",
            "25%       22.000000     16.000000    549.000000  2.100000e+04  \n",
            "50%       26.000000     18.000000   1385.000000  2.999500e+04  \n",
            "75%       30.000000     22.000000   2009.000000  4.223125e+04  \n",
            "max      354.000000    137.000000   5657.000000  2.065902e+06  \n",
            "\n",
            "=== Valores faltantes ===\n",
            "Make                    0\n",
            "Model                   0\n",
            "Year                    0\n",
            "Engine Fuel Type        3\n",
            "Engine HP              69\n",
            "Engine Cylinders       30\n",
            "Transmission Type       0\n",
            "Driven_Wheels           0\n",
            "Number of Doors         6\n",
            "Market Category      3742\n",
            "Vehicle Size            0\n",
            "Vehicle Style           0\n",
            "highway MPG             0\n",
            "city mpg                0\n",
            "Popularity              0\n",
            "MSRP                    0\n",
            "dtype: int64\n",
            "\n",
            "Porcentaje de valores faltantes: 2.02%\n",
            "\n",
            "Datos limpios guardados en: data/msrp_clean.csv\n",
            "\n",
            "Análisis completado. Resultados guardados en /output\n"
          ]
        }
      ],
      "source": [
        "# Ejecución principal\n",
        "if __name__ == \"__main__\":\n",
        "    # 1. Obtener datos\n",
        " #   csv_path = download_and_extract_data()\n",
        "#    msrp_df = pd.read_csv(csv_path)\n",
        "\n",
        "    # 2. Análisis inicial\n",
        "    print(\"\\n=== Primeras filas del dataset ===\")\n",
        "    print(msrp_df.head())\n",
        "\n",
        "    msrp_df = analyze_data(msrp_df)\n",
        "\n",
        "    # 3. Limpieza\n",
        "    msrp_df = clean_data(msrp_df)\n",
        "\n",
        "    # 4. Guardar datos limpios\n",
        "    os.makedirs(\"data\", exist_ok=True)\n",
        "    clean_path = \"data/msrp_clean.csv\"\n",
        "    msrp_df.to_csv(clean_path, index=False)\n",
        "    print(f\"\\nDatos limpios guardados en: {clean_path}\")\n",
        "\n",
        "    # 5. Generar visualizaciones\n",
        "    generate_visualizations(msrp_df)\n",
        "\n",
        "    # Boxplots para columnas numéricas\n",
        "    df_num = msrp_df.drop(columns=['MSRP','Year'], errors='ignore')\n",
        "    num_cols = df_num.select_dtypes(include=['int64', 'float64']).columns\n",
        "    filtered_cols = [col for col in num_cols if df_num[col].max() > 1]\n",
        "\n",
        "    scaler = MinMaxScaler()\n",
        "    scaled_data = scaler.fit_transform(df_num[filtered_cols])\n",
        "    scaled_df = pd.DataFrame(scaled_data, columns=filtered_cols)\n",
        "\n",
        "    for col in filtered_cols:\n",
        "       plt.figure(figsize=(8, 6))\n",
        "       scaled_df.boxplot(column=col)\n",
        "       plt.title(f'Boxplot de {col} (escalado 0-1)')\n",
        "       plt.ylabel('Valor escalado')\n",
        "       plt.tight_layout()\n",
        "       plt.savefig(f\"output/boxplot_{col}.png\")\n",
        "       plt.close()\n",
        "\n",
        "    print(\"\\nAnálisis completado. Resultados guardados en /output\")"
      ]
    },
    {
      "cell_type": "code",
      "execution_count": 29,
      "metadata": {
        "colab": {
          "base_uri": "https://localhost:8080/"
        },
        "id": "hoEm7M0DqLb4",
        "outputId": "b6457366-bac9-4502-8c58-cbf21dd3303a"
      },
      "outputs": [
        {
          "name": "stderr",
          "output_type": "stream",
          "text": [
            "<ipython-input-24-c5711eb08702>:4: FutureWarning: A value is trying to be set on a copy of a DataFrame or Series through chained assignment using an inplace method.\n",
            "The behavior will change in pandas 3.0. This inplace method will never work because the intermediate object on which we are setting values always behaves as a copy.\n",
            "\n",
            "For example, when doing 'df[col].method(value, inplace=True)', try using 'df.method({col: value}, inplace=True)' or df[col] = df[col].method(value) instead, to perform the operation inplace on the original object.\n",
            "\n",
            "\n",
            "  msrp_df['Engine HP'].fillna(msrp_df['Engine HP'].median(), inplace=True)\n",
            "<ipython-input-24-c5711eb08702>:5: FutureWarning: A value is trying to be set on a copy of a DataFrame or Series through chained assignment using an inplace method.\n",
            "The behavior will change in pandas 3.0. This inplace method will never work because the intermediate object on which we are setting values always behaves as a copy.\n",
            "\n",
            "For example, when doing 'df[col].method(value, inplace=True)', try using 'df.method({col: value}, inplace=True)' or df[col] = df[col].method(value) instead, to perform the operation inplace on the original object.\n",
            "\n",
            "\n",
            "  msrp_df['Engine Cylinders'].fillna(msrp_df['Engine Cylinders'].mode()[0], inplace=True)\n",
            "<ipython-input-24-c5711eb08702>:6: FutureWarning: A value is trying to be set on a copy of a DataFrame or Series through chained assignment using an inplace method.\n",
            "The behavior will change in pandas 3.0. This inplace method will never work because the intermediate object on which we are setting values always behaves as a copy.\n",
            "\n",
            "For example, when doing 'df[col].method(value, inplace=True)', try using 'df.method({col: value}, inplace=True)' or df[col] = df[col].method(value) instead, to perform the operation inplace on the original object.\n",
            "\n",
            "\n",
            "  msrp_df['Number of Doors'].fillna(msrp_df['Number of Doors'].mode()[0], inplace=True)\n",
            "<ipython-input-24-c5711eb08702>:7: FutureWarning: A value is trying to be set on a copy of a DataFrame or Series through chained assignment using an inplace method.\n",
            "The behavior will change in pandas 3.0. This inplace method will never work because the intermediate object on which we are setting values always behaves as a copy.\n",
            "\n",
            "For example, when doing 'df[col].method(value, inplace=True)', try using 'df.method({col: value}, inplace=True)' or df[col] = df[col].method(value) instead, to perform the operation inplace on the original object.\n",
            "\n",
            "\n",
            "  msrp_df['Market Category'].fillna('Unknown', inplace=True)\n"
          ]
        },
        {
          "name": "stdout",
          "output_type": "stream",
          "text": [
            "\n",
            "Datos limpios guardados en: data/msrp_clean.csv\n"
          ]
        }
      ],
      "source": [
        "# 3. Limpieza\n",
        "msrp_df = clean_data(msrp_df)\n",
        "\n",
        "# 4. Guardar datos limpios\n",
        "os.makedirs(\"data\", exist_ok=True)\n",
        "clean_path = \"data/msrp_clean.csv\"\n",
        "msrp_df.to_csv(clean_path, index=False)\n",
        "print(f\"\\nDatos limpios guardados en: {clean_path}\")"
      ]
    },
    {
      "cell_type": "code",
      "execution_count": 30,
      "metadata": {
        "colab": {
          "base_uri": "https://localhost:8080/"
        },
        "id": "aYhPyWbYqIxC",
        "outputId": "ee334234-ca55-4dd4-b90c-e26159976b2a"
      },
      "outputs": [
        {
          "name": "stdout",
          "output_type": "stream",
          "text": [
            "\n",
            "Análisis completado. Resultados guardados en /output\n"
          ]
        }
      ],
      "source": [
        "# 5. Generar visualizaciones\n",
        "generate_visualizations(msrp_df)\n",
        "print(\"\\nAnálisis completado. Resultados guardados en /output\")"
      ]
    }
  ],
  "metadata": {
    "colab": {
      "provenance": []
    },
    "kernelspec": {
      "display_name": "Python 3",
      "name": "python3"
    },
    "language_info": {
      "name": "python"
    }
  },
  "nbformat": 4,
  "nbformat_minor": 0
}
